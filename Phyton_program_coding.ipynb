{
  "nbformat": 4,
  "nbformat_minor": 0,
  "metadata": {
    "colab": {
      "provenance": [],
      "authorship_tag": "ABX9TyPIvkPqY79ibbiFBQoAyRfi",
      "include_colab_link": true
    },
    "kernelspec": {
      "name": "python3",
      "display_name": "Python 3"
    },
    "language_info": {
      "name": "python"
    }
  },
  "cells": [
    {
      "cell_type": "markdown",
      "metadata": {
        "id": "view-in-github",
        "colab_type": "text"
      },
      "source": [
        "<a href=\"https://colab.research.google.com/github/Sridharpadhy/Nt-Mine/blob/main/Phyton_program_coding.ipynb\" target=\"_parent\"><img src=\"https://colab.research.google.com/assets/colab-badge.svg\" alt=\"Open In Colab\"/></a>"
      ]
    },
    {
      "cell_type": "code",
      "source": [
        "#########################################################  PHYTON PROGRAM ON NUMBER  #######################################################################"
      ],
      "metadata": {
        "id": "y0--IBOa618L"
      },
      "execution_count": null,
      "outputs": []
    },
    {
      "cell_type": "code",
      "execution_count": null,
      "metadata": {
        "colab": {
          "base_uri": "https://localhost:8080/"
        },
        "id": "fHEDQulBpXgO",
        "outputId": "03847b59-6ccd-4b3f-91fd-94cfb5bd39fd"
      },
      "outputs": [
        {
          "output_type": "stream",
          "name": "stdout",
          "text": [
            "54321\n"
          ]
        }
      ],
      "source": [
        "# 1. Python program to reverse a number:\n",
        "a = 12345\n",
        "b = int(str(a)[::-1])\n",
        "print(b)"
      ]
    },
    {
      "cell_type": "code",
      "source": [
        "# 2. Write a program in Python to check whether an integer is Armstrong number or not.\n",
        "#(For eg: 153, is an Armstrong number because it has 3 digits, and 1^3 + 5^3 + 3^3 = 1 + 125 + 27 = 153)\n",
        "a = 153\n",
        "digit = [int(digi) for digi in  str(int(a))]\n",
        "b = len(digit)\n",
        "c = sum([char**b for char in digit])\n",
        "\n",
        "if c == a :\n",
        "  print('True it is Armstrong')\n",
        "else :\n",
        "  print('It is not Armstrong')\n"
      ],
      "metadata": {
        "colab": {
          "base_uri": "https://localhost:8080/"
        },
        "id": "pmfxzgrrsmiw",
        "outputId": "23d5c275-a8ed-4d99-9b3b-c22faa3db6dd"
      },
      "execution_count": null,
      "outputs": [
        {
          "output_type": "stream",
          "name": "stdout",
          "text": [
            "True it is Armstrong\n"
          ]
        }
      ]
    },
    {
      "cell_type": "code",
      "source": [
        "# 3. Write a program in Python to check given number is prime or not.\n",
        "num = 76\n",
        "if num == 1:\n",
        "    print(num, \"is not a prime number\")\n",
        "\n",
        "elif num > 1:\n",
        "  for char in range(2,num):\n",
        "    if num % char == 0:\n",
        "      print('It is not prime number')\n",
        "      break\n",
        "  else:\n",
        "    print('it is prime number') \n"
      ],
      "metadata": {
        "colab": {
          "base_uri": "https://localhost:8080/"
        },
        "id": "0QzBL9R5w_ll",
        "outputId": "ba9a7034-0733-4fdd-9ab1-ac7d9d5e1d04"
      },
      "execution_count": null,
      "outputs": [
        {
          "output_type": "stream",
          "name": "stdout",
          "text": [
            "It is not prime number\n"
          ]
        }
      ]
    },
    {
      "cell_type": "code",
      "source": [
        "# 4. Fibonacci series program in python using iterative method:\n",
        "\n",
        "#A Fibonacci series is a series in which next number is a sum of previous two numbers.\n",
        "#For example : 0, 1, 1, 2, 3, 5, 8 ……\n",
        "\n",
        "n = 5\n",
        "first , second = 0,1\n",
        "print('Fibonnacci Series are :')\n",
        "for i in range (0 , n):\n",
        "  if i <=1:\n",
        "    result = i\n",
        "\n",
        "  else :\n",
        "    result = first + second;\n",
        "    first = second;\n",
        "    second = result;\n",
        "  print(result)\n"
      ],
      "metadata": {
        "colab": {
          "base_uri": "https://localhost:8080/"
        },
        "id": "9p_yuuLY0yC2",
        "outputId": "bea94a58-2d61-4630-9b97-3ef33de35087"
      },
      "execution_count": null,
      "outputs": [
        {
          "output_type": "stream",
          "name": "stdout",
          "text": [
            "Fibonnacci Series are :\n",
            "0\n",
            "1\n",
            "1\n",
            "2\n",
            "3\n"
          ]
        }
      ]
    },
    {
      "cell_type": "code",
      "source": [
        "# 5. Fibonacci series program in python using recursive method\n",
        "\n",
        "n = int(input(\"please give a number for fibonacci series : \"))\n",
        "first,second=0,1\n",
        "def fibonacci(num):\n",
        "    if num == 0:\n",
        "        return 0\n",
        "    elif num == 1:\n",
        "        return 1\n",
        "    else:\n",
        "        return fibonacci(num-1)+fibonacci(num-2)\n",
        "print(\"fibonacci series are : \")\n",
        "for i in range(0,n):\n",
        "    print(fibonacci(i))"
      ],
      "metadata": {
        "colab": {
          "base_uri": "https://localhost:8080/"
        },
        "id": "OshifjXx3wQg",
        "outputId": "fd140daa-80b4-4a09-c109-5ce8c63a2fe7"
      },
      "execution_count": null,
      "outputs": [
        {
          "output_type": "stream",
          "name": "stdout",
          "text": [
            "please give a number for fibonacci series : 5\n",
            "fibonacci series are : \n",
            "0\n",
            "1\n",
            "1\n",
            "2\n",
            "3\n"
          ]
        }
      ]
    },
    {
      "cell_type": "code",
      "source": [
        "# 6. Write a program in Python to check whether a number is palindrome or not using iterative method.\n",
        "# In the above example you can see that 121 is a palindrome number. Because reverse of the 121 is same as 121.\n",
        "\n",
        "a = 5335\n",
        "b = int(str(a)[::-1])\n",
        "if a == b:\n",
        "  print ('It is palindrome')\n",
        "\n",
        "else :\n",
        "  print('It is not a palindrome')\n"
      ],
      "metadata": {
        "colab": {
          "base_uri": "https://localhost:8080/"
        },
        "id": "vFdug79d4u6r",
        "outputId": "3d586714-4538-49a0-c0da-c24c317413ed"
      },
      "execution_count": null,
      "outputs": [
        {
          "output_type": "stream",
          "name": "stdout",
          "text": [
            "It is palindrome\n"
          ]
        }
      ]
    },
    {
      "cell_type": "code",
      "source": [
        "# 7. Write a program in Python to check whether a string is palindrome or not using recursive method.\n",
        "\n",
        "def is_palindrome(s):\n",
        "    if len(s) < 1:\n",
        "        return True\n",
        "    else:\n",
        "        if s[0] == s[-1]:\n",
        "            return is_palindrome(s[1:-1])\n",
        "        else:\n",
        "            return False\n",
        "a=str(input(\"Enter string:\"))\n",
        "if(is_palindrome(a)==True):\n",
        "    print(\"String is a palindrome!\")\n",
        "else:\n",
        "    print(\"String isn't a palindrome!\")"
      ],
      "metadata": {
        "colab": {
          "base_uri": "https://localhost:8080/"
        },
        "id": "EDLzgkaO5t9K",
        "outputId": "973176c7-d85c-4d76-ceb8-d0917a4d66c0"
      },
      "execution_count": null,
      "outputs": [
        {
          "output_type": "stream",
          "name": "stdout",
          "text": [
            "Enter string:are\n",
            "String isn't a palindrome!\n"
          ]
        }
      ]
    },
    {
      "cell_type": "code",
      "source": [
        "# 8. a. Python Program to Find the max of 3 numbers\n",
        "a = 2\n",
        "b = 4 \n",
        "c = 5 \n",
        "if a >= b and b >= c :\n",
        "  print(\"a is great \")\n",
        "if b >= a and a>= c:\n",
        "  print('b is great')\n",
        "else :\n",
        "  print('c is great')"
      ],
      "metadata": {
        "colab": {
          "base_uri": "https://localhost:8080/"
        },
        "id": "4lxKmOQX6tTF",
        "outputId": "5f004e5e-62af-4078-ab2b-06e036cebf6f"
      },
      "execution_count": null,
      "outputs": [
        {
          "output_type": "stream",
          "name": "stdout",
          "text": [
            "c is great\n"
          ]
        }
      ]
    },
    {
      "cell_type": "code",
      "source": [
        "# b. Python Program to find Smallest number among three.\n",
        "a =4\n",
        "b=5\n",
        "c=2\n",
        "\n",
        "if a <= b and b <= c :\n",
        "  print(\"a is small \")\n",
        "if b <= a and a<= c:\n",
        "  print('b is small')\n",
        "else :\n",
        "  print('c is small')"
      ],
      "metadata": {
        "colab": {
          "base_uri": "https://localhost:8080/"
        },
        "id": "GmFA7VH-BvS1",
        "outputId": "9b7aee42-89d5-4cb4-b607-a4ce58fc5737"
      },
      "execution_count": null,
      "outputs": [
        {
          "output_type": "stream",
          "name": "stdout",
          "text": [
            "c is great\n"
          ]
        }
      ]
    },
    {
      "cell_type": "code",
      "source": [
        "# 9. Write a program in Python to check if a number is binary\n",
        "num = int(input(\"please give a number : \"))\n",
        "while(num>0):\n",
        "    j=num%10\n",
        "    if j!=0 and j!=1:\n",
        "        print(\"num is not binary\")\n",
        "        break\n",
        "    num=num//10\n",
        "    if num==0:\n",
        "        print(\"num is binary\") "
      ],
      "metadata": {
        "colab": {
          "base_uri": "https://localhost:8080/"
        },
        "id": "V0jaWisoEED1",
        "outputId": "7e55403f-bce5-47c6-8c45-6440e535dcef"
      },
      "execution_count": null,
      "outputs": [
        {
          "output_type": "stream",
          "name": "stdout",
          "text": [
            "please give a number : 5\n",
            "num is not binary\n"
          ]
        }
      ]
    },
    {
      "cell_type": "code",
      "source": [
        "# 10 . Below is a program to check a given number is perfect or not in Python\n",
        "# perfect num is eg : 6 all the divisor excluding itself so 1+2+3 = 6 the number itself.\n",
        "\n",
        "def find_per_num (s):\n",
        "  b = 0\n",
        "  for char in range(1,s):\n",
        "    if s%char == 0:\n",
        "      b = b + char\n",
        "\n",
        "  if b == s:\n",
        "    print('The num is perfect no ')\n",
        "\n",
        "  else:\n",
        "    print('it is not perfect no ')\n",
        "\n",
        "\n",
        "find_per_num(496)"
      ],
      "metadata": {
        "colab": {
          "base_uri": "https://localhost:8080/"
        },
        "id": "vlHiifQYFvJ1",
        "outputId": "29d5c7a5-e830-48c4-fc5a-cb0ef726c654"
      },
      "execution_count": null,
      "outputs": [
        {
          "output_type": "stream",
          "name": "stdout",
          "text": [
            "The num is perfect no \n"
          ]
        }
      ]
    },
    {
      "cell_type": "code",
      "source": [
        "# 11. Python program to find the average of numbers\n",
        "b =[2,4,5,6]\n",
        "def find_average (a):\n",
        "  return sum(a)/len(a)\n",
        "\n",
        "find_average(b)"
      ],
      "metadata": {
        "colab": {
          "base_uri": "https://localhost:8080/"
        },
        "id": "yUaT6RDgeWrG",
        "outputId": "b5ba78e4-5727-4674-ce56-8a307af6d0cd"
      },
      "execution_count": null,
      "outputs": [
        {
          "output_type": "execute_result",
          "data": {
            "text/plain": [
              "4.25"
            ]
          },
          "metadata": {},
          "execution_count": 3
        }
      ]
    },
    {
      "cell_type": "code",
      "source": [
        "# 12. Python program to calculate the factorial using iterative approach\n",
        "\n",
        "num = int(input())\n",
        "b=1\n",
        "if num < 0:\n",
        "   \tprint(\"Factorial can't be calculated for negative number\")\n",
        "elif num == 0:\n",
        "   print(\"Factorial of 0 is 1\")\n",
        "else:\n",
        "  for char in range (1 , num+1):\n",
        "    b = b*char\n",
        "    print( 'factorial of',num,'is',b)\n"
      ],
      "metadata": {
        "colab": {
          "base_uri": "https://localhost:8080/"
        },
        "id": "Z67_CkUZ5V-p",
        "outputId": "e0c4e682-2035-46eb-f113-476b893dd26c"
      },
      "execution_count": null,
      "outputs": [
        {
          "output_type": "stream",
          "name": "stdout",
          "text": [
            "5\n",
            "factorial of 5 is 1\n",
            "factorial of 5 is 2\n",
            "factorial of 5 is 6\n",
            "factorial of 5 is 24\n",
            "factorial of 5 is 120\n"
          ]
        }
      ]
    },
    {
      "cell_type": "code",
      "source": [
        "# 13. Python program to check given number is even or odd\n",
        "def even_odd (a):\n",
        "  if a % 2 == 0:\n",
        "    print(\"number is even\")\n",
        "\n",
        "  else :\n",
        "    print(\"number is odd\")\n",
        "\n",
        "even_odd(6)"
      ],
      "metadata": {
        "colab": {
          "base_uri": "https://localhost:8080/"
        },
        "id": "P0GmAmYJ706T",
        "outputId": "3e4b1489-e129-4f7b-d23c-3875a92ea115"
      },
      "execution_count": null,
      "outputs": [
        {
          "output_type": "stream",
          "name": "stdout",
          "text": [
            "number is even\n"
          ]
        }
      ]
    },
    {
      "cell_type": "code",
      "source": [
        "# 14. Python program to print first n prime numbers\n",
        "n= int(input())\n",
        "for i in range(2,n):\n",
        "  if(n%i==0):\n",
        "     break\n",
        "  else:\n",
        "    print (i)"
      ],
      "metadata": {
        "colab": {
          "base_uri": "https://localhost:8080/"
        },
        "id": "vXfofYXiANhB",
        "outputId": "3249c68e-abb7-47a4-8849-4d1a71e73d88"
      },
      "execution_count": null,
      "outputs": [
        {
          "name": "stdout",
          "output_type": "stream",
          "text": [
            "10\n"
          ]
        }
      ]
    },
    {
      "cell_type": "code",
      "source": [
        "# 15. Python program to calculate the power using the POW method\n",
        "base = 5\n",
        "power = 5\n",
        "output = base ** power\n",
        "print(output)\n",
        "\n",
        "# if we do in pow method then :\n",
        "print(pow(base,power))"
      ],
      "metadata": {
        "colab": {
          "base_uri": "https://localhost:8080/"
        },
        "id": "BtZmU8n4-Xki",
        "outputId": "42ee699a-51e3-40fb-94b7-4830fc1b54cf"
      },
      "execution_count": null,
      "outputs": [
        {
          "output_type": "stream",
          "name": "stdout",
          "text": [
            "3125\n",
            "3125\n"
          ]
        }
      ]
    },
    {
      "cell_type": "code",
      "source": [
        "# 16. Python Program to calculate the square of a given number\n",
        "\n",
        "def square_root (s):\n",
        "  return s*s \n",
        "\n",
        "square_root(5)"
      ],
      "metadata": {
        "colab": {
          "base_uri": "https://localhost:8080/"
        },
        "id": "bIr64prmImXt",
        "outputId": "f4cc13a6-7a6e-40cd-fad4-344f688fb83e"
      },
      "execution_count": null,
      "outputs": [
        {
          "output_type": "execute_result",
          "data": {
            "text/plain": [
              "25"
            ]
          },
          "metadata": {},
          "execution_count": 7
        }
      ]
    },
    {
      "cell_type": "code",
      "source": [
        "# 17. Python Program to calculate the cube of a given number.\n",
        "def cube_root (s):\n",
        "  return s*s*s\n",
        "\n",
        "cube_root(2)"
      ],
      "metadata": {
        "colab": {
          "base_uri": "https://localhost:8080/"
        },
        "id": "rLvtPRgsJFr8",
        "outputId": "97269f80-c7bf-40d6-d9e2-a3c5f01157ef"
      },
      "execution_count": null,
      "outputs": [
        {
          "output_type": "execute_result",
          "data": {
            "text/plain": [
              "8"
            ]
          },
          "metadata": {},
          "execution_count": 10
        }
      ]
    },
    {
      "cell_type": "code",
      "source": [
        "# 18 . Python Program to calculate the square root of a given number.\n",
        "from math import sqrt\n",
        "def sqroot (v):\n",
        "  return sqrt(v)\n",
        "\n",
        "print(sqroot(125))\n",
        "\n",
        "# or\n",
        "\n",
        "print(125**0.5)"
      ],
      "metadata": {
        "colab": {
          "base_uri": "https://localhost:8080/"
        },
        "id": "co5DENasKo82",
        "outputId": "2f3b984c-a313-44da-ac36-d265e1235860"
      },
      "execution_count": null,
      "outputs": [
        {
          "output_type": "stream",
          "name": "stdout",
          "text": [
            "11.180339887498949\n",
            "11.180339887498949\n"
          ]
        }
      ]
    },
    {
      "cell_type": "code",
      "source": [
        "# 19. Python Program to Convert Decimal Number into Binary.\n",
        "decimal = temp = int(input(\"Please Enter a decimal number: \"))\n",
        "binary = \"\"\n",
        "while temp > 0:\n",
        "    remainder = temp % 2\n",
        "    binary = str(remainder) + binary\n",
        "    temp = temp // 2\n",
        "print(\"Binary number is \", binary, \" for \", decimal)"
      ],
      "metadata": {
        "id": "LNBFwVHfNJli",
        "colab": {
          "base_uri": "https://localhost:8080/"
        },
        "outputId": "07047cf8-91f0-4b05-f32c-f625e4dd1db2"
      },
      "execution_count": null,
      "outputs": [
        {
          "output_type": "stream",
          "name": "stdout",
          "text": [
            "Please Enter a decimal number: 23\n",
            "Binary number is  10111  for  23\n"
          ]
        }
      ]
    },
    {
      "cell_type": "code",
      "source": [
        "# 20. Leap Year Program in Python\n",
        "# Condition for leap year : The year must be evenly divisible by 4. - If the year is divisible by 100, then it must also be divisible by 400.\n",
        "\n",
        "year = int(input(\"Please Enter a year: \"))\n",
        "if year % 4 == 0:\n",
        "    if year % 100 == 0:\n",
        "        if year % 400 == 0:\n",
        "            print(year, \"is a leap year\")\n",
        "        else:\n",
        "            print(year, \"is not a leap year\")"
      ],
      "metadata": {
        "colab": {
          "base_uri": "https://localhost:8080/"
        },
        "id": "wA7a6mdCdWPq",
        "outputId": "ee633d61-0ffd-4702-d76c-06c5953379a8"
      },
      "execution_count": null,
      "outputs": [
        {
          "output_type": "stream",
          "name": "stdout",
          "text": [
            "Please Enter a year: 2000\n",
            "2000 is a leap year\n"
          ]
        }
      ]
    },
    {
      "cell_type": "code",
      "source": [
        "# 21. Convert Celsius to Fahrenheit in Python F = (C * 1.8) + 32\n",
        "celsius = float(input(\"Enter temperature in Celsius: \"))\n",
        "fahrenheit = (celsius * 1.8) + 32\n",
        "print(\"Temperature in Fahrenheit: \", fahrenheit)\n",
        "\n",
        "# For Fahrenheit to Celisius :\n",
        "# Formula = ( Fahrenheit – 32)*5 ) / 9\n"
      ],
      "metadata": {
        "colab": {
          "base_uri": "https://localhost:8080/"
        },
        "id": "i4CfOairfj_M",
        "outputId": "6f68541c-db1d-40af-cae1-b935a95d9893"
      },
      "execution_count": null,
      "outputs": [
        {
          "output_type": "stream",
          "name": "stdout",
          "text": [
            "Enter temperature in Celsius: 122\n",
            "Temperature in Fahrenheit:  251.6\n"
          ]
        }
      ]
    },
    {
      "cell_type": "code",
      "source": [
        "# 22. Python program to calculate simple interest\n",
        "# Formula = Simple interest = (principal x rate of interest x time)/100\n",
        "\n",
        "p = 2000\n",
        "r = 3\n",
        "t = 3\n",
        "\n",
        "simpleint = (p*r*t)/100\n",
        "print(simpleint)"
      ],
      "metadata": {
        "colab": {
          "base_uri": "https://localhost:8080/"
        },
        "id": "FsR2VKTyfyk0",
        "outputId": "bbe5fc60-3d9b-44f5-98d1-462787e4b463"
      },
      "execution_count": null,
      "outputs": [
        {
          "output_type": "stream",
          "name": "stdout",
          "text": [
            "180.0\n"
          ]
        }
      ]
    },
    {
      "cell_type": "code",
      "source": [
        "#################################################################### Phyton For STRINGS #########################################################################"
      ],
      "metadata": {
        "id": "k0vUxrCdvSzw"
      },
      "execution_count": null,
      "outputs": []
    },
    {
      "cell_type": "code",
      "source": [
        "# 23. Python program to remove given character from String.\n",
        "def remove_char(s1,s2):\n",
        "    print(s1.replace(s2, ''))\n",
        "s1 = input(\"please give a String : \")\n",
        "s2 = input(\"please give a Character to remove : \")\n",
        "remove_char(s1,s2)"
      ],
      "metadata": {
        "colab": {
          "base_uri": "https://localhost:8080/"
        },
        "id": "DDkuT8z5vdpn",
        "outputId": "d821f426-fd5b-4791-fcda-1c8610802b71"
      },
      "execution_count": null,
      "outputs": [
        {
          "output_type": "stream",
          "name": "stdout",
          "text": [
            "please give a String : Sridhar\n",
            "please give a Character to remove : dhar\n",
            "Sri\n"
          ]
        }
      ]
    },
    {
      "cell_type": "code",
      "source": [
        "# 24. Python Program to count occurrence of a given characters in string.\n",
        "string = 'sridhar is sexy '\n",
        "char = 's'\n",
        "count = 0\n",
        "for ch in string :\n",
        "  if ch == char :\n",
        "    count = count+1\n",
        "print('so the',char,'has the no of count in string is',count)\n",
        "\n",
        "#or \n",
        "\n",
        "for i in range(len(string)):\n",
        "    if(string[i] == char):\n",
        "        count = count + 1\n",
        "print(\"Total Number of occurence of \", char, \"is :\" , count)"
      ],
      "metadata": {
        "colab": {
          "base_uri": "https://localhost:8080/"
        },
        "id": "_0D1HURrDaPI",
        "outputId": "3d6aebe9-8dc0-4362-eae3-d0cb7fdb3c1c"
      },
      "execution_count": null,
      "outputs": [
        {
          "output_type": "stream",
          "name": "stdout",
          "text": [
            "so the s has the no of count in string is 3\n",
            "Total Number of occurence of  s is : 6\n"
          ]
        }
      ]
    },
    {
      "cell_type": "code",
      "source": [
        "# 25. Python Program to check if two Strings are Anagram.\n",
        "# Anagram is the two which has same aplhabet with the different spelling . eg= Bats = tabs\n",
        "\n",
        "def check_anagram (str1 , str2):\n",
        "  if sorted(str1)==sorted(str2):\n",
        "    print('The strings are the Anagram')\n",
        "  else:\n",
        "    print('The strings are not Anagram')\n",
        "\n",
        "str1= 'free'\n",
        "str2= 'reef'\n",
        "check_anagram(str1, str2)"
      ],
      "metadata": {
        "id": "BlCFtaweKjHx",
        "colab": {
          "base_uri": "https://localhost:8080/"
        },
        "outputId": "6010f188-c62e-4580-da37-b49167d1ab4f"
      },
      "execution_count": null,
      "outputs": [
        {
          "output_type": "stream",
          "name": "stdout",
          "text": [
            "The strings are the Anagram\n"
          ]
        }
      ]
    },
    {
      "cell_type": "code",
      "source": [
        "# 26. String Palindrome program in python ( Palindrome = rat == tar)\n",
        "\n",
        "def palindrome_check (str1 , str2 ):\n",
        "  if str1 == str2[::-1] :\n",
        "    print('This string is palindrome')\n",
        "  else:\n",
        "    print('This string is not palindrome')\n",
        "\n",
        "str1 = 'rat'\n",
        "str2 = 'tar'\n",
        "\n",
        "palindrome_check(str1 , str2)"
      ],
      "metadata": {
        "colab": {
          "base_uri": "https://localhost:8080/"
        },
        "id": "fU_4a8FKpe87",
        "outputId": "6615ccc3-503c-4f47-a9db-9b4cfda7dd34"
      },
      "execution_count": null,
      "outputs": [
        {
          "output_type": "stream",
          "name": "stdout",
          "text": [
            "This string is palindrome\n"
          ]
        }
      ]
    },
    {
      "cell_type": "code",
      "source": [
        "# 27. Python program to check given character is vowel or consonant\n",
        "vowel = ['a','e','i','o','u']\n",
        "string = str(input())\n",
        "for char in string:\n",
        "  if char.lower() in vowel:\n",
        "    print('Character is vowel')\n",
        "  else:\n",
        "    print('Character is Consonant')"
      ],
      "metadata": {
        "id": "VZeERB9zrDLt",
        "colab": {
          "base_uri": "https://localhost:8080/"
        },
        "outputId": "59488b4d-5449-4f0b-d019-833ad97f9021"
      },
      "execution_count": null,
      "outputs": [
        {
          "output_type": "stream",
          "name": "stdout",
          "text": [
            "Are\n",
            "Character is vowel\n",
            "Character is Consonant\n",
            "Character is vowel\n"
          ]
        }
      ]
    },
    {
      "cell_type": "code",
      "source": [
        "# 28. Python program to check given input is digit or not\n",
        "given = input()\n",
        "for char in given:\n",
        "  if char >= '0' and char <= '9':\n",
        "    print('Digit')\n",
        "  else:\n",
        "    print('Not Digit')\n",
        "\n",
        "\n",
        "\n",
        "#Or\n",
        "\n",
        "ch = input(\"Enter a character : \") \n",
        "if(ch.isdigit()): \n",
        "    print(\"The Given Character \", ch, \"is a Digit\")\n",
        "else:\n",
        "      #if ‘ch.digit()’ returns “False”\n",
        "    print(\"The Given Character \", ch, \"is not a Digit\")"
      ],
      "metadata": {
        "colab": {
          "base_uri": "https://localhost:8080/"
        },
        "id": "Sazs-I4Up2LT",
        "outputId": "e191429d-8723-4014-8a7b-9f4b231baf3c"
      },
      "execution_count": null,
      "outputs": [
        {
          "output_type": "stream",
          "name": "stdout",
          "text": [
            "5\n",
            "Digit\n",
            "Enter a character : r\n",
            "The Given Character  r is not a Digit\n"
          ]
        }
      ]
    },
    {
      "cell_type": "code",
      "source": [
        "# 29. Python program to replace the string space with a given character\n",
        "\n",
        "Str = 'Sri har'\n",
        "char = input()\n",
        "d=Str.replace(' ' , char)\n",
        "print(d)"
      ],
      "metadata": {
        "colab": {
          "base_uri": "https://localhost:8080/"
        },
        "id": "3ngG0eTVtjgr",
        "outputId": "60f64f6a-78b5-48b1-d3ea-e40ff2fb96b9"
      },
      "execution_count": null,
      "outputs": [
        {
          "output_type": "stream",
          "name": "stdout",
          "text": [
            "d\n",
            "Sridhar\n"
          ]
        }
      ]
    },
    {
      "cell_type": "code",
      "source": [
        "# If string has any \" \" then replace it with char given \n",
        "Str = input()\n",
        "given = input()\n",
        "for char in Str:\n",
        "  if char == ' ':\n",
        "    b = Str.replace( ' ' , given)\n",
        "    print(b)"
      ],
      "metadata": {
        "colab": {
          "base_uri": "https://localhost:8080/"
        },
        "id": "YuofULw-tmIY",
        "outputId": "a0dcbba3-ebdc-4d9d-c379-b3e7bc8f34e2"
      },
      "execution_count": null,
      "outputs": [
        {
          "output_type": "stream",
          "name": "stdout",
          "text": [
            "Ar Sridhar atfood.\n",
            "e\n",
            "AreSridhareatfood.\n",
            "AreSridhareatfood.\n"
          ]
        }
      ]
    },
    {
      "cell_type": "code",
      "source": [
        "# 30. Python program to convert lowercase vowel to uppercase in string\n",
        "string = input(\"Enter a string: \")\n",
        "vowels = \"aeiou\"\n",
        "for char in string:\n",
        "    if char in vowels:\n",
        "        upper_char = char.upper()\n",
        "        string = string.replace(char, upper_char)\n",
        "print(\"Updated string:\", string)"
      ],
      "metadata": {
        "colab": {
          "base_uri": "https://localhost:8080/"
        },
        "id": "b4NkP8ng1bta",
        "outputId": "a7b8da35-c632-43f7-a1b8-0f4f4d3fb473"
      },
      "execution_count": null,
      "outputs": [
        {
          "output_type": "stream",
          "name": "stdout",
          "text": [
            "Enter a string: hello world\n",
            "Updated string: hEllO wOrld\n"
          ]
        }
      ]
    },
    {
      "cell_type": "code",
      "source": [
        "# 31. Python program to delete vowels in a given string\n",
        "string = input(\"Enter a string: \")\n",
        "vowels = \"aeiou\"\n",
        "for char in string:\n",
        "    if char.lower() in vowels:\n",
        "        string = string.replace(char, '')\n",
        "print(\"Updated string:\", string)"
      ],
      "metadata": {
        "colab": {
          "base_uri": "https://localhost:8080/"
        },
        "id": "XV-KsoNl6462",
        "outputId": "f28c48dd-4269-4415-9e46-33ef0ab01af9"
      },
      "execution_count": null,
      "outputs": [
        {
          "output_type": "stream",
          "name": "stdout",
          "text": [
            "Enter a string: hello world\n",
            "Updated string: hll wrld\n"
          ]
        }
      ]
    },
    {
      "cell_type": "code",
      "source": [
        "# 32. Python program to count the Occurrence Of Vowels & Consonants in a String\n",
        "string = input(\"Enter a string: \")\n",
        "vowels = \"aeiou\"\n",
        "noofvowel=0\n",
        "noofstring=0\n",
        "for char in string:\n",
        "    if char.lower() in vowels:\n",
        "        noofvowel = noofvowel+1\n",
        "    elif char == ' ':\n",
        "      noofstring= noofstring+0\n",
        "    else:\n",
        "      noofstring = noofstring+1\n",
        "\n",
        "\n",
        "    \n",
        "print(\"Count of Vowel:\",  noofvowel , 'Count of Consonants:' , noofstring)\n"
      ],
      "metadata": {
        "colab": {
          "base_uri": "https://localhost:8080/"
        },
        "id": "_ETp6wKG7o4s",
        "outputId": "04c064ad-f8b4-450f-bd5c-1ac84ba2bdef"
      },
      "execution_count": null,
      "outputs": [
        {
          "output_type": "stream",
          "name": "stdout",
          "text": [
            "Enter a string: hello world\n",
            "Count of Vowel: 3 Count of Consonants: 7\n"
          ]
        }
      ]
    },
    {
      "cell_type": "code",
      "source": [
        "# 33. Python program to print the highest frequency character in a String\n",
        "string = 'GeeksforGeeks'\n",
        "dic = {}\n",
        "for char in string:\n",
        "  if char in dic:\n",
        "    dic[char] += 1\n",
        "  else:\n",
        "    dic[char] = 1\n",
        "\n",
        "max_fre = max(dic.values())\n",
        "\n",
        "for char in dic:\n",
        "  if dic[char]== max_fre :\n",
        "    print(\"The maximum of all characters in GeeksforGeeks is : \" + str(char))\n",
        "\n",
        "\n",
        "# Or\n",
        "\n",
        "max_char = max(dic, key=dic.get)\n",
        "\n",
        "# printing result\n",
        "print(\"The maximum of all characters in GeeksforGeeks is : \" + str(max_char))\n",
        "\n",
        "\n"
      ],
      "metadata": {
        "colab": {
          "base_uri": "https://localhost:8080/"
        },
        "id": "lAIEmZJ8CyYR",
        "outputId": "0ca7d764-268d-41c9-f32d-e1d120e77aca"
      },
      "execution_count": null,
      "outputs": [
        {
          "output_type": "stream",
          "name": "stdout",
          "text": [
            "The maximum of all characters in GeeksforGeeks is : e\n",
            "The maximum of all characters in GeeksforGeeks is : e\n"
          ]
        }
      ]
    },
    {
      "cell_type": "code",
      "source": [
        "# 34. Python Program to Replace First Vowel With ‘-‘ in String\n",
        "string = input(\"Enter a string: \")\n",
        "vowels = \"aeiou\"\n",
        "for char in string:\n",
        "    if char.lower() in vowels:\n",
        "        string = string.replace(char, '-')\n",
        "        break\n",
        "print(\"Updated string:\", string)\n"
      ],
      "metadata": {
        "colab": {
          "base_uri": "https://localhost:8080/"
        },
        "id": "be6ZutRvGkI2",
        "outputId": "d38c2b8b-2f0f-4094-9ff8-e323843229e0"
      },
      "execution_count": null,
      "outputs": [
        {
          "output_type": "stream",
          "name": "stdout",
          "text": [
            "Enter a string: hello\n",
            "Updated string: h-llo\n"
          ]
        }
      ]
    },
    {
      "cell_type": "code",
      "source": [
        "# But if we want that before vowel this happen then:\n",
        "#Input: \"Hello World\"     Output: \"H-ello World\"\n",
        "string = input(\"Enter a string: \")\n",
        "vowels = \"aeiou\"\n",
        "for i in range(len(string)):\n",
        "  if string[i].lower() in vowels:\n",
        "    string = string[:i] + '-' + string[i:]\n",
        "    break\n",
        "print(string)"
      ],
      "metadata": {
        "colab": {
          "base_uri": "https://localhost:8080/"
        },
        "id": "9GpZIMLXIdgd",
        "outputId": "f1eeb9a9-639d-4fbf-8d35-d5b9287584f9"
      },
      "execution_count": null,
      "outputs": [
        {
          "output_type": "stream",
          "name": "stdout",
          "text": [
            "Enter a string: Hello World\n",
            "H-ello World\n"
          ]
        }
      ]
    },
    {
      "cell_type": "code",
      "source": [
        "# 35. Python program to count alphabets, digits and special characters.\n",
        "alphabet = 0 \n",
        "digits = 0\n",
        "special = 0\n",
        "string = input()\n",
        "for char in string:\n",
        "  if char.isalpha():\n",
        "    alphabet = alphabet + 1\n",
        "\n",
        "  elif char.isdigit():\n",
        "    digits = digits +1\n",
        "\n",
        "  else:\n",
        "    special = special + 1\n",
        "\n",
        "print( 'alphabet = ' ,alphabet ,'digits = ', digits ,'special characters = ', special)"
      ],
      "metadata": {
        "colab": {
          "base_uri": "https://localhost:8080/"
        },
        "id": "RnXGOdCHJbRV",
        "outputId": "727e5dce-97d2-46da-ff01-6c8187328b64"
      },
      "execution_count": null,
      "outputs": [
        {
          "output_type": "stream",
          "name": "stdout",
          "text": [
            "#hello47!!!\n",
            "alphabet =  5 digits =  2 special characters =  4\n"
          ]
        }
      ]
    },
    {
      "cell_type": "code",
      "source": [
        "# 36.Python program to separate characters in a given string.\n",
        "string = input()\n",
        "for char in string:\n",
        "  print( char , \"\\n\")"
      ],
      "metadata": {
        "colab": {
          "base_uri": "https://localhost:8080/"
        },
        "id": "P_B3KxA1MBMz",
        "outputId": "617f2201-d80c-4bb6-fee8-5b663fb8e2e6"
      },
      "execution_count": null,
      "outputs": [
        {
          "output_type": "stream",
          "name": "stdout",
          "text": [
            "hello\n",
            "h \n",
            "\n",
            "e \n",
            "\n",
            "l \n",
            "\n",
            "l \n",
            "\n",
            "o \n",
            "\n"
          ]
        }
      ]
    },
    {
      "cell_type": "code",
      "source": [
        "# 37. Python program to remove blank space from string.\n",
        "string = input()\n",
        "for char in string:\n",
        "  if char == \" \":\n",
        "    string= string.replace( char , \"\")\n",
        "    print(string)"
      ],
      "metadata": {
        "id": "wWfrNzSmM6sR",
        "colab": {
          "base_uri": "https://localhost:8080/"
        },
        "outputId": "ecf3eee2-86c1-4c2e-eb0f-b78f73b58b20"
      },
      "execution_count": 1,
      "outputs": [
        {
          "output_type": "stream",
          "name": "stdout",
          "text": [
            "hell  o\n",
            "hello\n",
            "hello\n"
          ]
        }
      ]
    },
    {
      "cell_type": "code",
      "source": [
        "# 38. Python program to concatenate two strings using join() method.\n",
        "str1 = input()\n",
        "str2 = input()\n",
        "print(''.join([str1,str2]))"
      ],
      "metadata": {
        "colab": {
          "base_uri": "https://localhost:8080/"
        },
        "id": "xQLttVNz8i5B",
        "outputId": "e8984d89-a53d-4db5-dad6-fc9f5b855682"
      },
      "execution_count": 3,
      "outputs": [
        {
          "output_type": "stream",
          "name": "stdout",
          "text": [
            "Sri\n",
            "dhar\n",
            "Sridhar\n"
          ]
        }
      ]
    },
    {
      "cell_type": "code",
      "source": [
        "# 39. Python program to concatenate two strings without using join() method\n",
        "str1 = input()\n",
        "str2 = input()\n",
        "print(str1+str2)\n"
      ],
      "metadata": {
        "colab": {
          "base_uri": "https://localhost:8080/"
        },
        "id": "fDdSMo0c-cOq",
        "outputId": "2c2823a8-803e-43d6-e970-977dc3b7ed7f"
      },
      "execution_count": 4,
      "outputs": [
        {
          "output_type": "stream",
          "name": "stdout",
          "text": [
            "Sri\n",
            "dhar\n",
            "Sridhar\n"
          ]
        }
      ]
    },
    {
      "cell_type": "code",
      "source": [
        "# 40. Python program to remove repeated character from string.\n",
        "def remove_duplicates(s):\n",
        "    unique_chars = []\n",
        "    for char in s:\n",
        "        if char not in unique_chars:\n",
        "            unique_chars.append(char)\n",
        "    return \"\".join(unique_chars)\n",
        "string = input(\"Please Enter a string: \")\n",
        "print(remove_duplicates(string))\n"
      ],
      "metadata": {
        "colab": {
          "base_uri": "https://localhost:8080/"
        },
        "id": "waKpIPbHAfPX",
        "outputId": "7e903725-68d9-4cad-df31-642846e790db"
      },
      "execution_count": 8,
      "outputs": [
        {
          "output_type": "stream",
          "name": "stdout",
          "text": [
            "Please Enter a string: hello\n",
            "helo\n"
          ]
        }
      ]
    },
    {
      "cell_type": "code",
      "source": [
        "# 41. Python program to calculate sum of integers in string.\n",
        "\n",
        "def sum_of_integer (s):\n",
        "  b=0\n",
        "  for char in s:\n",
        "    if char.isdigit():\n",
        "      b = b+ (int(char))\n",
        "  return b\n",
        "\n",
        "li = 'Sridhar4707'\n",
        "sum_of_integer(li)"
      ],
      "metadata": {
        "colab": {
          "base_uri": "https://localhost:8080/"
        },
        "id": "XOE349o2CBg3",
        "outputId": "4a555ab0-30cb-49d0-d2a1-9bdddff5cb5e"
      },
      "execution_count": 7,
      "outputs": [
        {
          "output_type": "execute_result",
          "data": {
            "text/plain": [
              "18"
            ]
          },
          "metadata": {},
          "execution_count": 7
        }
      ]
    },
    {
      "cell_type": "code",
      "source": [
        "# 42. Python program to print all non repeating character in string\n",
        "str1= input()\n",
        "freq={}\n",
        "for char in str1:\n",
        "  if char in freq:\n",
        "    freq[char] += 1\n",
        "  else:\n",
        "    freq[char] = 1\n",
        "\n",
        "nonrepeat_char = ''\n",
        "for char in str1:\n",
        "  if freq[char]==1:\n",
        "    nonrepeat_char += char\n",
        "\n",
        "print(nonrepeat_char)\n",
        "\n"
      ],
      "metadata": {
        "colab": {
          "base_uri": "https://localhost:8080/"
        },
        "id": "5mZJrk7lgmMK",
        "outputId": "bb9ac726-12de-44d7-ab03-ad968e5754a1"
      },
      "execution_count": 9,
      "outputs": [
        {
          "output_type": "stream",
          "name": "stdout",
          "text": [
            "hello\n",
            "heo\n"
          ]
        }
      ]
    },
    {
      "cell_type": "code",
      "source": [
        "# 43. Python Program to Copy one String to Another String\n",
        "string = input(\"Please Enter a string: \")\n",
        "new_string = \"\"\n",
        "for char in string:\n",
        "    new_string += char\n",
        "print(\"New String:\", new_string)\n",
        "#or\n",
        "new_string = string[:]\n",
        "#0r\n",
        "new_string = str(string)"
      ],
      "metadata": {
        "id": "xm-qUyOmvDbB"
      },
      "execution_count": null,
      "outputs": []
    },
    {
      "cell_type": "code",
      "source": [
        "# 44. Python Program to sort characters of string in ascending order.\n",
        "str1 = input()\n",
        "print(''.join(sorted(str1)))\n",
        "#or\n",
        "print(''.join(sorted(str1, reverse = True)))"
      ],
      "metadata": {
        "colab": {
          "base_uri": "https://localhost:8080/"
        },
        "id": "UZtz8-pVypfq",
        "outputId": "cb3e4fe1-fb97-4df2-faba-9f5d7db1d315"
      },
      "execution_count": 19,
      "outputs": [
        {
          "output_type": "stream",
          "name": "stdout",
          "text": [
            "Sri\n",
            "Sir\n",
            "riS\n"
          ]
        }
      ]
    },
    {
      "cell_type": "code",
      "source": [
        "# To seperate each character of string we cant split so we can use list:\n",
        "f = 'sridhar'\n",
        "l = list(f)\n",
        "l"
      ],
      "metadata": {
        "colab": {
          "base_uri": "https://localhost:8080/"
        },
        "id": "CWqX8WJrzd5F",
        "outputId": "7fe825b2-88b6-4356-d443-9972ae33c5b3"
      },
      "execution_count": 21,
      "outputs": [
        {
          "output_type": "execute_result",
          "data": {
            "text/plain": [
              "['s', 'r', 'i', 'd', 'h', 'a', 'r']"
            ]
          },
          "metadata": {},
          "execution_count": 21
        }
      ]
    },
    {
      "cell_type": "code",
      "source": [],
      "metadata": {
        "id": "rrck6VzUAjIa"
      },
      "execution_count": null,
      "outputs": []
    }
  ]
}