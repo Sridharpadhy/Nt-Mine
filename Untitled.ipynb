{
  "nbformat": 4,
  "nbformat_minor": 0,
  "metadata": {
    "colab": {
      "provenance": [],
      "authorship_tag": "ABX9TyORK/ycw5wjDKutZlPKKHUn",
      "include_colab_link": true
    },
    "kernelspec": {
      "name": "python3",
      "display_name": "Python 3"
    },
    "language_info": {
      "name": "python"
    }
  },
  "cells": [
    {
      "cell_type": "markdown",
      "metadata": {
        "id": "view-in-github",
        "colab_type": "text"
      },
      "source": [
        "<a href=\"https://colab.research.google.com/github/Sridharpadhy/Nt-Mine/blob/main/Untitled.ipynb\" target=\"_parent\"><img src=\"https://colab.research.google.com/assets/colab-badge.svg\" alt=\"Open In Colab\"/></a>"
      ]
    },
    {
      "cell_type": "code",
      "source": [
        "Table – EmployeeDetails\n",
        "\n",
        "EmpId\tFullName\tManagerId\tDateOfJoining\tCity\n",
        "121\tJohn Snow\t321\t01/31/2019\tToronto\n",
        "321\tWalter White\t986\t01/30/2020\tCalifornia\n",
        "421\tKuldeep Rana\t876\t27/11/2021\tNew Delhi"
      ],
      "metadata": {
        "id": "ZOrLoS66Tq9p"
      },
      "execution_count": null,
      "outputs": []
    },
    {
      "cell_type": "code",
      "source": [
        "Table – EmployeeSalary\n",
        "\n",
        "EmpId\tProject\tSalary\tVariable\n",
        "121\tP1\t8000\t500\n",
        "321\tP2\t10000\t1000\n",
        "421\tP1\t12000\t0"
      ],
      "metadata": {
        "id": "vtjHyVLxTt0f"
      },
      "execution_count": null,
      "outputs": []
    },
    {
      "cell_type": "code",
      "source": [
        "1. Write an SQL query to fetch all the EmpIds which are present in either of the tables – ‘EmployeeDetails’ and ‘EmployeeSalary’.\n",
        "\n",
        "select empid from employeedetails \n",
        "union\n",
        "select emoid from employeesalary"
      ],
      "metadata": {
        "id": "04jhB5J4T492"
      },
      "execution_count": null,
      "outputs": []
    },
    {
      "cell_type": "code",
      "source": [
        " 2. Write an SQL query to fetch records that are present in one table but not in another table.\n",
        "\n",
        " select * from empldetail\n",
        " minus\n",
        " select * from emplsalary"
      ],
      "metadata": {
        "id": "xKQF21t-USXa"
      },
      "execution_count": null,
      "outputs": []
    },
    {
      "cell_type": "code",
      "source": [
        "3. Write an SQL query to fetch the EmpIds that are present in EmployeeDetails but not in EmployeeSalary.\n",
        "\n",
        "select empid from employeedetails \n",
        "where empid not in  (select empid from employeesalary )"
      ],
      "metadata": {
        "id": "XIlMYJaoV9au"
      },
      "execution_count": null,
      "outputs": []
    },
    {
      "cell_type": "code",
      "source": [
        "4. select replace (empname , ' ' , '-' ) from empl"
      ],
      "metadata": {
        "id": "Ph_cpDIGXRBY"
      },
      "execution_count": null,
      "outputs": []
    },
    {
      "cell_type": "code",
      "source": [
        "5. Write an SQL query to fetch the position of a given character(s) in a field.\n",
        "\n",
        "Select INSTR( fullname , 'snow') from employeedetails"
      ],
      "metadata": {
        "id": "l6G1g82W37yO"
      },
      "execution_count": null,
      "outputs": []
    },
    {
      "cell_type": "code",
      "source": [
        "6. Write an SQL query to display both the EmpId and ManagerId together.\n",
        "Select concat(empid,managerid) from emplodeta"
      ],
      "metadata": {
        "id": "dJAr56lJ4QjS"
      },
      "execution_count": null,
      "outputs": []
    },
    {
      "cell_type": "code",
      "source": [
        "7. Write a query to fetch only the first name(string before space) from the FullName column of the EmployeeDetails table.\n",
        " mid id used for fetch and locate for location \n",
        "\n",
        " select mid( fullname , 1 , locate(fullname , ' ')) from empdetail"
      ],
      "metadata": {
        "id": "HI8oB3bm5_Xq"
      },
      "execution_count": null,
      "outputs": []
    },
    {
      "cell_type": "code",
      "source": [
        "8. Write an SQL query to find the count of the total occurrences of a particular character – ‘n’ in the FullName field. \n",
        "Select Fullname , Len(Fullname) - len(replace(fullname , n , '')) from employeedetail\n"
      ],
      "metadata": {
        "id": "6FKdm03b6wWz"
      },
      "execution_count": null,
      "outputs": []
    },
    {
      "cell_type": "code",
      "source": [
        "9. Write an SQL query to update the employee names by removing leading and trailing spaces.\n",
        "UPDATE employeedetail\n",
        "SET Fullname =LTRIM(RTRIM(Fullname))"
      ],
      "metadata": {
        "id": "StpV6t-9EbZV"
      },
      "execution_count": null,
      "outputs": []
    },
    {
      "cell_type": "code",
      "source": [
        "10. Fetch all the employees who are not working on any project.\n",
        "Select empid from employeesalary\n",
        "where project is null"
      ],
      "metadata": {
        "id": "DxNYyhJe8wGU"
      },
      "execution_count": null,
      "outputs": []
    },
    {
      "cell_type": "code",
      "source": [
        "11. Write an SQL query to fetch employee names having a salary greater than or equal to 5000 and less than or equal to 10000.\n",
        "select employyeename from employedetail \n",
        "where employid in ( select empid from empsalary\n",
        "                      where salary >= 5000 and salary <= 10000)"
      ],
      "metadata": {
        "id": "fIl5ytW9-Otv"
      },
      "execution_count": null,
      "outputs": []
    },
    {
      "cell_type": "code",
      "source": [
        "12. Current date\n",
        "select Now()\n",
        "select currdate()\n",
        "# for tym\n",
        "select current_time()"
      ],
      "metadata": {
        "id": "9zn_upZ3__TT"
      },
      "execution_count": null,
      "outputs": []
    },
    {
      "cell_type": "code",
      "source": [
        "13. Write an SQL query to fetch all the Employee details from the EmployeeDetails table who joined in the Year 2020.\n",
        "select * from employeedetail\n",
        "where year(dateofjoining ) == '2020'"
      ],
      "metadata": {
        "id": "JuQXClN_AwO_"
      },
      "execution_count": null,
      "outputs": []
    },
    {
      "cell_type": "code",
      "source": [
        "14. Write an SQL query to fetch all employee records from the EmployeeDetails table who have a salary record in the EmployeeSalary table.\n",
        "select * from empdetail\n",
        "where empid = (select empid from empsalary\n",
        "               where salary is not null );\n",
        "\n",
        "\n",
        "SELECT * FROM EmployeeDetails E\n",
        "WHERE EXISTS\n",
        "(SELECT * FROM EmployeeSalary S \n",
        "WHERE  E.EmpId = S.EmpId);"
      ],
      "metadata": {
        "id": "uSWVbs5WDbBQ"
      },
      "execution_count": null,
      "outputs": []
    },
    {
      "cell_type": "code",
      "source": [
        "15. Write an SQL query to fetch the project-wise count of employees sorted by project’s count in descending order.\n",
        "\n",
        "select project , count(empid) as empprojectcount from empsalary\n",
        "group by project  \n",
        "oredr by empprojectcount desc"
      ],
      "metadata": {
        "id": "BPXX019bYs06"
      },
      "execution_count": null,
      "outputs": []
    },
    {
      "cell_type": "code",
      "source": [
        "16. Write a query to fetch employee names and salary records. Display the employee details even if the salary record is not present for the employee.\n",
        "\n",
        "select d.empname , s.salary from emplydetail d left join salary s\n",
        "on d.empid = s.empid "
      ],
      "metadata": {
        "id": "AuFHSD5mZzlq"
      },
      "execution_count": null,
      "outputs": []
    },
    {
      "cell_type": "code",
      "source": [
        "########################################################################## HARD ONES #########################################################################"
      ],
      "metadata": {
        "id": "8IfTQH8Af8Wb"
      },
      "execution_count": null,
      "outputs": []
    },
    {
      "cell_type": "code",
      "source": [
        "17. Write an SQL query to join 3 tables.\n",
        "\n",
        "select * from table 1 a join (select * from table 2 b cross join table 3 c\n",
        "                            on b.col1 = c.col3) d\n",
        "on a.col1 = d.col1\n",
        "\n",
        "SELECT column1, column2\n",
        "FROM TableA\n",
        "JOIN TableB ON TableA.Column3 = TableB.Column3\n",
        "JOIN TableC ON TableA.Column4 = TableC.Column4;\n"
      ],
      "metadata": {
        "id": "gZZAGzZJa3x2"
      },
      "execution_count": null,
      "outputs": []
    },
    {
      "cell_type": "code",
      "source": [
        "18. Write an SQL query to fetch all the Employees who are also managers from the EmployeeDetails table.\n",
        "\n",
        "\n",
        "\n",
        "select e.fullname from empdetail e innerjoin empdetail d\n",
        "on e.empid = d.mangerid\n",
        "\n",
        "\n",
        "select e.fullname from empdetail e join empdetail d\n",
        "on e.empid = d.empid\n",
        "where e.empid = d.managerid"
      ],
      "metadata": {
        "id": "Qg98oyMtc9vS"
      },
      "execution_count": null,
      "outputs": []
    },
    {
      "cell_type": "code",
      "source": [
        "19. Write an SQL query to fetch duplicate records from EmployeeDetails (without considering the primary key – EmpId).\n",
        "\n",
        "#SELECT value FROM table GROUP BY value HAVING COUNT(*)>1;\n",
        "\n",
        "select fullname , managerid , salary , count(*) from empdetail\n",
        "group by fullname , managerid , salary \n",
        "having count(*) > 1;"
      ],
      "metadata": {
        "id": "C5ONiU1DeUmF"
      },
      "execution_count": null,
      "outputs": []
    },
    {
      "cell_type": "code",
      "source": [
        "20 .Write an SQL query to remove duplicates from a table without using a temporary table.\n",
        "\n",
        "Here, we can use delete with alias and inner join. We will check for the equality of all the matching records and then remove the row with a higher EmpId.\n",
        "\n",
        "DELETE E1 FROM EmployeeDetails E1\n",
        "INNER JOIN EmployeeDetails E2 \n",
        "WHERE E1.EmpId > E2.EmpId \n",
        "AND E1.FullName = E2.FullName \n",
        "AND E1.ManagerId = E2.ManagerId\n",
        "AND E1.DateOfJoining = E2.DateOfJoining\n",
        "AND E1.City = E2.City;"
      ],
      "metadata": {
        "id": "pFYR9tlMfr7W"
      },
      "execution_count": null,
      "outputs": []
    },
    {
      "cell_type": "code",
      "source": [
        "21. Write an SQL query to fetch only odd rows from the table.\n",
        "\n",
        "select * from employeedetail\n",
        "where mod( empid , 2) <> 0\n",
        "\n",
        "# if we need even rows\n",
        "select * from employeedetail\n",
        "where mod( empid , 2) = 0"
      ],
      "metadata": {
        "id": "ng8ae2GJtu4M"
      },
      "execution_count": null,
      "outputs": []
    },
    {
      "cell_type": "code",
      "source": [
        "22. Write an SQL query to create a new table with data and structure copied from another table.\n",
        "\n",
        "create table tablename\n",
        "As select * from employeedetail"
      ],
      "metadata": {
        "id": "LAWXU4eauXrB"
      },
      "execution_count": null,
      "outputs": []
    },
    {
      "cell_type": "code",
      "source": [
        "23.Write an SQL query to create an empty table with the same structure as some other table.\n",
        "\n",
        "create table tablename like employeedetail\n"
      ],
      "metadata": {
        "id": "EDaVU3eauhKF"
      },
      "execution_count": null,
      "outputs": []
    },
    {
      "cell_type": "code",
      "source": [
        "24. Write an SQL query to fetch top n records.\n",
        "select * from employeedetail\n",
        "order by empid limit 4\n"
      ],
      "metadata": {
        "id": "poOcdPkTv3kR"
      },
      "execution_count": null,
      "outputs": []
    },
    {
      "cell_type": "code",
      "source": [
        "25. Write an SQL query to find the 10th(nth) highest salary from a table.\n",
        "\n",
        "SELECT Salary FROM Employee\n",
        "ORDER BY Salary DESC LIMIT N-1,1;\n",
        "\n",
        "Here we are ordering our salaries in descending order so we will get the highest salary first and then subsequently lower salaries. \n",
        "The limit clause has two components, the First component is to 'skip a number of rows from the top' and 'the second component is to display\n",
        "the number of rows we want. \n",
        "Let us see with an example :\n",
        "\n",
        "To find the 4th Highest salary query will be\n",
        "\n",
        "Query:\n",
        "\n",
        "Select emp_sal from Emp order by emp_sal DESC limit 3,1;\n",
        "# limit 3,1 so it means it will from the row 3 after the third row only 1 row will bw shown"
      ],
      "metadata": {
        "id": "DxuDvPu2wL-S"
      },
      "execution_count": null,
      "outputs": []
    },
    {
      "cell_type": "code",
      "source": [
        "Write SQL query to find the 3rd highest salary from a table without using the TOP/limit keyword.\n",
        "\n",
        "select salary from empsalry emp1\n",
        "where 2 = \n",
        "SELECT Salary\n",
        "FROM EmployeeSalary Emp1\n",
        "WHERE N-1 = (\n",
        "                SELECT COUNT( DISTINCT ( Emp2.Salary ) )\n",
        "                FROM EmployeeSalary Emp2\n",
        "                WHERE Emp2.Salary > Emp1.Salary\n",
        "            )\n"
      ],
      "metadata": {
        "id": "9XuuX-lK0NIs"
      },
      "execution_count": null,
      "outputs": []
    },
    {
      "cell_type": "code",
      "source": [
        "#EmployeeInfo Table:\n",
        "\n",
        "EmpID   EmpFname  EmpLname  Department  Project  Address DOB  Gender\n",
        "\n",
        "#EmployeePosition Table:\n",
        "\n",
        "EmpID  EmpPosition  DateOfJoining  Salary"
      ],
      "metadata": {
        "id": "N-qbosqIRAkk"
      },
      "execution_count": null,
      "outputs": []
    },
    {
      "cell_type": "code",
      "source": [
        "1.  Write a query to fetch the EmpFname from the EmployeeInfo table in upper case and use the ALIAS name as EmpName.\n",
        "select upper(EmpFname) as Empname from EmployeeInfo"
      ],
      "metadata": {
        "id": "4LfD5b1_6bqL"
      },
      "execution_count": null,
      "outputs": []
    },
    {
      "cell_type": "code",
      "source": [
        "2. Write a query to fetch the number of employees working in the department ‘HR’\n",
        "\n",
        "select count(Empid) from employeeinfo\n",
        "where department = 'Hr' "
      ],
      "metadata": {
        "id": "R_6fXt4W633J"
      },
      "execution_count": null,
      "outputs": []
    },
    {
      "cell_type": "code",
      "source": [
        "3. Write a query to get the current date.\n",
        "  select curdate()"
      ],
      "metadata": {
        "id": "1Be8KO1w-D5O"
      },
      "execution_count": null,
      "outputs": []
    },
    {
      "cell_type": "code",
      "source": [
        "4. Write a query to retrieve the first four characters of  EmpLname from the EmployeeInfo table.\n",
        "select substring(emplname , 1 , 4)  from employeedetail"
      ],
      "metadata": {
        "id": "1RWZ-1-k-PAL"
      },
      "execution_count": null,
      "outputs": []
    },
    {
      "cell_type": "code",
      "source": [
        "5.Write a query to fetch only the place name(string before brackets) from the Address column of EmployeeInfo table."
      ],
      "metadata": {
        "id": "PsDMDlIj_Uss"
      },
      "execution_count": null,
      "outputs": []
    },
    {
      "cell_type": "markdown",
      "source": [],
      "metadata": {
        "id": "6w3wE9JS37Ld"
      }
    }
  ]
}